{
 "cells": [
  {
   "cell_type": "code",
   "execution_count": 9,
   "metadata": {},
   "outputs": [],
   "source": [
    "import tensorflow as tf\n",
    "from PIL import Image\n",
    "import os\n",
    "\n",
    "custom_objects = {'BatchNormalization': tf.keras.layers.BatchNormalization, 'Adam': tf.keras.optimizers.Adam}\n",
    "# Returns the model for the given part and itchy\n",
    "def get_model(name):\n",
    "    return tf.keras.models.load_model( \"./models/\" + name, custom_objects=custom_objects)\n",
    "\n",
    "models = {\n",
    "    \"Itchy Face\": get_model(\"Itchy Face\")\n",
    "}\n",
    "\n",
    "labels = {\n",
    "    \"Itchy Face\": ['rosacea', 'eczema', 'vitiligo', 'Unknown', 'seborrheic dermatitis', 'psoriasis']\n",
    "}"
   ]
  },
  {
   "cell_type": "code",
   "execution_count": 16,
   "metadata": {},
   "outputs": [],
   "source": [
    "import numpy as np\n",
    "# Identifies the skin disease in the image\n",
    "def predict_disease(img, body_part, itchy):\n",
    "    img = np.asarray(Image.open(img).resize((299, 299))) / 255.0\n",
    "    img = np.expand_dims(img, axis=0)\n",
    "    print(img.shape)\n",
    "    model = models[(\"Itchy\" if itchy else \"Non Itchy\") + \" \" + body_part]\n",
    "    # model.summary()\n",
    "    predictions = model.predict(img)\n",
    "    print(predictions)"
   ]
  },
  {
   "cell_type": "code",
   "execution_count": 17,
   "metadata": {},
   "outputs": [
    {
     "name": "stdout",
     "output_type": "stream",
     "text": [
      "(1, 299, 299, 3)\n",
      "1/1 [==============================] - 6s 6s/step\n",
      "[[0.01017372 0.92842484 0.00336012 0.00342583 0.01714602 0.0374695 ]]\n"
     ]
    }
   ],
   "source": [
    "predict_disease(\"./eczema.jpg\", \"Face\", True)"
   ]
  },
  {
   "cell_type": "code",
   "execution_count": null,
   "metadata": {},
   "outputs": [],
   "source": [
    "import tensorflow as tf\n",
    "\n",
    "model = tf.keras.models.load_model(\"./models/Itchy Face\")\n",
    "\n",
    "model.summary()"
   ]
  },
  {
   "cell_type": "code",
   "execution_count": null,
   "metadata": {},
   "outputs": [],
   "source": [
    "without_dropout = tf.keras.models.Sequential()\n",
    "for layer in model.layers:\n",
    "    if not isinstance(layer, tf.keras.layers.Dropout):\n",
    "        without_dropout.add(layer)\n",
    "\n",
    "without_dropout.summary()"
   ]
  }
 ],
 "metadata": {
  "kernelspec": {
   "display_name": "Python 3",
   "language": "python",
   "name": "python3"
  },
  "language_info": {
   "codemirror_mode": {
    "name": "ipython",
    "version": 3
   },
   "file_extension": ".py",
   "mimetype": "text/x-python",
   "name": "python",
   "nbconvert_exporter": "python",
   "pygments_lexer": "ipython3",
   "version": "3.11.0"
  },
  "orig_nbformat": 4
 },
 "nbformat": 4,
 "nbformat_minor": 2
}
